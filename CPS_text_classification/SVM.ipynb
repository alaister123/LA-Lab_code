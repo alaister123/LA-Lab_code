{
 "cells": [
  {
   "cell_type": "code",
   "execution_count": 1,
   "metadata": {},
   "outputs": [],
   "source": [
    "import pandas as pd\n",
    "import numpy as np\n",
    "from sklearn.feature_extraction.text import CountVectorizer\n",
    "from sklearn.model_selection import KFold\n",
    "from sklearn.svm import LinearSVC\n",
    "from sklearn.metrics import cohen_kappa_score\n",
    "from nltk.tokenize import WordPunctTokenizer"
   ]
  },
  {
   "cell_type": "code",
   "execution_count": 2,
   "metadata": {},
   "outputs": [],
   "source": [
    "data = pd.read_csv(\"cooked_all_sep.csv\")"
   ]
  },
  {
   "cell_type": "code",
   "execution_count": 3,
   "metadata": {},
   "outputs": [],
   "source": [
    "corpus = data[\"event_result\"].to_list()"
   ]
  },
  {
   "cell_type": "code",
   "execution_count": 4,
   "metadata": {},
   "outputs": [
    {
     "data": {
      "text/plain": [
       "<6175x21696 sparse matrix of type '<class 'numpy.int64'>'\n",
       "\twith 130532 stored elements in Compressed Sparse Row format>"
      ]
     },
     "execution_count": 4,
     "metadata": {},
     "output_type": "execute_result"
    }
   ],
   "source": [
    "vectorizer = CountVectorizer(ngram_range=(1,2),tokenizer = WordPunctTokenizer().tokenize)\n",
    "vectorizer.fit_transform(corpus)"
   ]
  },
  {
   "cell_type": "code",
   "execution_count": 7,
   "metadata": {},
   "outputs": [
    {
     "name": "stdout",
     "output_type": "stream",
     "text": [
      "Fold Complete\n",
      "Fold Complete\n",
      "Fold Complete\n",
      "Fold Complete\n",
      "Fold Complete\n",
      "Fold Complete\n",
      "Fold Complete\n",
      "Fold Complete\n",
      "Fold Complete\n",
      "Fold Complete\n",
      "Accuracy 0.575673187356468\n",
      "Kappa 0.4683037990682733\n"
     ]
    }
   ],
   "source": [
    "accuracy = list()\n",
    "kappa = list()\n",
    "\n",
    "for i in range(10):\n",
    "    train = pd.read_csv(f\"train{i}.csv\")\n",
    "    test = pd.read_csv(f\"test{i}.csv\")\n",
    "\n",
    "    X_train = vectorizer.transform(train[\"event_result\"]).toarray()\n",
    "    X_test = vectorizer.transform(test[\"event_result\"]).toarray()\n",
    "\n",
    "    Y_train = train[\"Primary code\"].to_numpy()\n",
    "    Y_test = test[\"Primary code\"].to_numpy()\n",
    "    \n",
    "    clf = LinearSVC(tol=1e-5,C=0.1,max_iter=2000)\n",
    "    clf.fit(X_train, Y_train)\n",
    "    \n",
    "    accuracy.append(clf.score(X_test,Y_test))\n",
    "    kappa.append(cohen_kappa_score(clf.predict(X_test),Y_test))\n",
    "    print(\"Fold Complete\")\n",
    "print(f\"Accuracy {sum(accuracy)/len(accuracy)}\")\n",
    "print(f\"Kappa {sum(kappa)/len(kappa)}\")"
   ]
  },
  {
   "cell_type": "code",
   "execution_count": 6,
   "metadata": {},
   "outputs": [],
   "source": []
  },
  {
   "cell_type": "code",
   "execution_count": null,
   "metadata": {},
   "outputs": [],
   "source": []
  },
  {
   "cell_type": "code",
   "execution_count": null,
   "metadata": {},
   "outputs": [],
   "source": []
  },
  {
   "cell_type": "code",
   "execution_count": null,
   "metadata": {},
   "outputs": [],
   "source": []
  }
 ],
 "metadata": {
  "kernelspec": {
   "display_name": "Python 3",
   "language": "python",
   "name": "python3"
  },
  "language_info": {
   "codemirror_mode": {
    "name": "ipython",
    "version": 3
   },
   "file_extension": ".py",
   "mimetype": "text/x-python",
   "name": "python",
   "nbconvert_exporter": "python",
   "pygments_lexer": "ipython3",
   "version": "3.7.6"
  }
 },
 "nbformat": 4,
 "nbformat_minor": 4
}
