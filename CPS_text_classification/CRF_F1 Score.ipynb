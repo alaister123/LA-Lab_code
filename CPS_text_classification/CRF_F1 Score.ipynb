{
 "cells": [
  {
   "cell_type": "code",
   "execution_count": 9,
   "metadata": {},
   "outputs": [],
   "source": [
    "import sklearn_crfsuite\n",
    "import pandas as pd\n",
    "import numpy as np\n",
    "from sklearn.feature_extraction.text import CountVectorizer\n",
    "from sklearn.model_selection import KFold\n",
    "from sklearn.metrics import cohen_kappa_score\n",
    "from nltk.tokenize import WordPunctTokenizer\n",
    "from sklearn.metrics import classification_report"
   ]
  },
  {
   "cell_type": "code",
   "execution_count": 2,
   "metadata": {},
   "outputs": [],
   "source": [
    "data = pd.read_csv(\"cooked_all_sep.csv\")"
   ]
  },
  {
   "cell_type": "code",
   "execution_count": 3,
   "metadata": {},
   "outputs": [
    {
     "data": {
      "text/plain": [
       "<6175x21696 sparse matrix of type '<class 'numpy.int64'>'\n",
       "\twith 130532 stored elements in Compressed Sparse Row format>"
      ]
     },
     "execution_count": 3,
     "metadata": {},
     "output_type": "execute_result"
    }
   ],
   "source": [
    "corpus = data[\"event_result\"].to_list()\n",
    "vectorizer = CountVectorizer(ngram_range=(1,2),tokenizer = WordPunctTokenizer().tokenize)\n",
    "vectorizer.fit_transform(corpus)"
   ]
  },
  {
   "cell_type": "code",
   "execution_count": 4,
   "metadata": {},
   "outputs": [],
   "source": [
    "def reformat(section):\n",
    "    reformat_data = list()\n",
    "    for id in section[\"team_id\"].unique():\n",
    "        temp = list()\n",
    "        for index, row in section[section[\"team_id\"] == id].iterrows():\n",
    "            temp.append((row[\"event_result\"],row[\"Primary code\"]))\n",
    "        reformat_data.append(temp)\n",
    "    return reformat_data"
   ]
  },
  {
   "cell_type": "code",
   "execution_count": 5,
   "metadata": {},
   "outputs": [],
   "source": [
    "def sent2labels(sent):\n",
    "    return [str(label) for sentence, label in sent]"
   ]
  },
  {
   "cell_type": "code",
   "execution_count": 6,
   "metadata": {},
   "outputs": [],
   "source": [
    "def word2features(sent, i):\n",
    "    word = sent[i][0]\n",
    "    \n",
    "    # uni+bigram feature for current sentence\n",
    "    features = {i:0 for i in vectorizer.get_feature_names()}\n",
    "    temp = CountVectorizer(ngram_range=(1,2),tokenizer = WordPunctTokenizer().tokenize)\n",
    "    temp.fit_transform([word])\n",
    "\n",
    "    \n",
    "    for grams in temp.get_feature_names():\n",
    "        features[grams] = 1\n",
    "    \n",
    "    # previous sentence label\n",
    "    if i > 0:\n",
    "        label = sent[i-1][1]\n",
    "        features.update({\"-1label\": label})\n",
    "    \n",
    "    \n",
    "    return features\n",
    "\n",
    "def sent2features(sent):\n",
    "    return [word2features(sent, i) for i in range(len(sent))]"
   ]
  },
  {
   "cell_type": "code",
   "execution_count": 10,
   "metadata": {},
   "outputs": [
    {
     "name": "stdout",
     "output_type": "stream",
     "text": [
      "Fold Complete\n",
      "              precision    recall  f1-score   support\n",
      "\n",
      "           0       0.76      0.78      0.77       129\n",
      "           1       0.74      0.75      0.75       231\n",
      "           2       0.58      0.64      0.61       100\n",
      "           3       0.63      0.64      0.64        70\n",
      "           4       0.50      0.44      0.47        39\n",
      "           5       0.00      0.00      0.00         1\n",
      "           6       0.57      0.53      0.55        40\n",
      "           7       0.56      0.32      0.41        28\n",
      "\n",
      "    accuracy                           0.68       638\n",
      "   macro avg       0.54      0.51      0.52       638\n",
      "weighted avg       0.67      0.68      0.67       638\n",
      "\n",
      "Accuracy 0.6755485893416928\n",
      "Kappa 0.5822626254958152\n"
     ]
    }
   ],
   "source": [
    "accuracy = list()\n",
    "kappa = list()\n",
    "\n",
    "for i in range(1):\n",
    "    train = pd.read_csv(f\"train{i}.csv\")\n",
    "    test = pd.read_csv(f\"test{i}.csv\")\n",
    "\n",
    "    re_train = reformat(train)\n",
    "    re_test = reformat(test)\n",
    "\n",
    "    X_train = [sent2features(s) for s in re_train]\n",
    "    Y_train = [sent2labels(s) for s in re_train]\n",
    "\n",
    "    X_test = [sent2features(s) for s in re_test]\n",
    "    Y_test = [sent2labels(s) for s in re_test]\n",
    "    \n",
    "    clf = sklearn_crfsuite.CRF(c1=0.35, c2=0, max_iterations=150)\n",
    "    clf.fit(X_train, Y_train)\n",
    "    \n",
    "    \n",
    "    \n",
    "    accuracy.append(clf.score(X_test,Y_test))\n",
    "    \n",
    "    pred = list()\n",
    "    true = list()\n",
    "    for i in clf.predict(X_test):\n",
    "        for j in i:\n",
    "            pred.append(j)\n",
    "    for i in Y_test:\n",
    "        for j in i:\n",
    "            true.append(j)\n",
    "    \n",
    "    kappa.append(cohen_kappa_score(pred,true))\n",
    "    \n",
    "    print(\"Fold Complete\")\n",
    "    print(classification_report(true, pred))\n",
    "    \n",
    "print(f\"Accuracy {sum(accuracy)/len(accuracy)}\")\n",
    "print(f\"Kappa {sum(kappa)/len(kappa)}\")"
   ]
  },
  {
   "cell_type": "code",
   "execution_count": 8,
   "metadata": {},
   "outputs": [],
   "source": [
    "#Accuracy 0.6671891327063741\n",
    "#Kappa 0.5711422471569121"
   ]
  },
  {
   "cell_type": "code",
   "execution_count": null,
   "metadata": {},
   "outputs": [],
   "source": []
  },
  {
   "cell_type": "code",
   "execution_count": null,
   "metadata": {},
   "outputs": [],
   "source": [
    "\n",
    "\n"
   ]
  },
  {
   "cell_type": "code",
   "execution_count": null,
   "metadata": {},
   "outputs": [],
   "source": []
  },
  {
   "cell_type": "code",
   "execution_count": null,
   "metadata": {},
   "outputs": [],
   "source": []
  },
  {
   "cell_type": "code",
   "execution_count": null,
   "metadata": {},
   "outputs": [],
   "source": []
  },
  {
   "cell_type": "code",
   "execution_count": null,
   "metadata": {},
   "outputs": [],
   "source": []
  },
  {
   "cell_type": "code",
   "execution_count": null,
   "metadata": {},
   "outputs": [],
   "source": []
  },
  {
   "cell_type": "code",
   "execution_count": null,
   "metadata": {},
   "outputs": [],
   "source": []
  }
 ],
 "metadata": {
  "kernelspec": {
   "display_name": "Python 3",
   "language": "python",
   "name": "python3"
  },
  "language_info": {
   "codemirror_mode": {
    "name": "ipython",
    "version": 3
   },
   "file_extension": ".py",
   "mimetype": "text/x-python",
   "name": "python",
   "nbconvert_exporter": "python",
   "pygments_lexer": "ipython3",
   "version": "3.8.5"
  }
 },
 "nbformat": 4,
 "nbformat_minor": 4
}
