{
 "cells": [
  {
   "cell_type": "code",
   "execution_count": null,
   "metadata": {},
   "outputs": [],
   "source": [
    "import pandas as pd\n",
    "import numpy as np\n",
    "from sklearn.feature_extraction.text import CountVectorizer\n",
    "from sklearn.model_selection import KFold\n",
    "from sklearn.linear_model import LogisticRegression\n",
    "from sklearn.metrics import cohen_kappa_score\n",
    "from nltk.tokenize import WordPunctTokenizer"
   ]
  },
  {
   "cell_type": "code",
   "execution_count": null,
   "metadata": {},
   "outputs": [],
   "source": [
    "data = pd.read_csv(\"cooked_all_sep.csv\")"
   ]
  },
  {
   "cell_type": "code",
   "execution_count": null,
   "metadata": {},
   "outputs": [],
   "source": [
    "corpus = data[\"event_result\"].to_list()"
   ]
  },
  {
   "cell_type": "code",
   "execution_count": null,
   "metadata": {},
   "outputs": [],
   "source": [
    "vectorizer = CountVectorizer(ngram_range=(1,2),tokenizer = WordPunctTokenizer().tokenize)\n",
    "vectorizer.fit_transform(corpus)"
   ]
  },
  {
   "cell_type": "code",
   "execution_count": null,
   "metadata": {},
   "outputs": [],
   "source": [
    "accuracy = list()\n",
    "kappa = list()\n",
    "\n",
    "for i in range(10):\n",
    "    train = pd.read_csv(f\"train{i}.csv\")\n",
    "    test = pd.read_csv(f\"test{i}.csv\")\n",
    "\n",
    "    X_train = vectorizer.transform(train[\"event_result\"]).toarray()\n",
    "    X_test = vectorizer.transform(test[\"event_result\"]).toarray()\n",
    "\n",
    "    Y_train = train[\"Primary code\"].to_numpy()\n",
    "    Y_test = test[\"Primary code\"].to_numpy()\n",
    "    \n",
    "    clf = LogisticRegression(tol=1e-5,C=1,max_iter=150)\n",
    "    clf.fit(X_train, Y_train)\n",
    "    \n",
    "    accuracy.append(clf.score(X_test,Y_test))\n",
    "    kappa.append(cohen_kappa_score(clf.predict(X_test),Y_test))\n",
    "    print(\"Fold Complete\")\n",
    "print(f\"Accuracy {sum(accuracy)/len(accuracy)}\")\n",
    "print(f\"Kappa {sum(kappa)/len(kappa)}\")"
   ]
  },
  {
   "cell_type": "code",
   "execution_count": null,
   "metadata": {},
   "outputs": [],
   "source": []
  },
  {
   "cell_type": "code",
   "execution_count": null,
   "metadata": {},
   "outputs": [],
   "source": []
  },
  {
   "cell_type": "code",
   "execution_count": null,
   "metadata": {},
   "outputs": [],
   "source": []
  },
  {
   "cell_type": "code",
   "execution_count": null,
   "metadata": {},
   "outputs": [],
   "source": []
  }
 ],
 "metadata": {
  "kernelspec": {
   "display_name": "Python 3",
   "language": "python",
   "name": "python3"
  },
  "language_info": {
   "codemirror_mode": {
    "name": "ipython",
    "version": 3
   },
   "file_extension": ".py",
   "mimetype": "text/x-python",
   "name": "python",
   "nbconvert_exporter": "python",
   "pygments_lexer": "ipython3",
   "version": "3.7.6"
  }
 },
 "nbformat": 4,
 "nbformat_minor": 4
}
