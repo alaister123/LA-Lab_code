{
 "cells": [
  {
   "cell_type": "code",
   "execution_count": 7,
   "metadata": {},
   "outputs": [],
   "source": [
    "import pandas as pd\n",
    "import numpy as np\n",
    "from sklearn.feature_extraction.text import CountVectorizer\n",
    "from sklearn.model_selection import KFold\n",
    "from sklearn.linear_model import LogisticRegression\n",
    "from sklearn.metrics import cohen_kappa_score\n",
    "from nltk.tokenize import WordPunctTokenizer\n",
    "from sklearn.metrics import classification_report"
   ]
  },
  {
   "cell_type": "code",
   "execution_count": 2,
   "metadata": {},
   "outputs": [],
   "source": [
    "data = pd.read_csv(\"cooked_all_sep.csv\")"
   ]
  },
  {
   "cell_type": "code",
   "execution_count": 3,
   "metadata": {},
   "outputs": [],
   "source": [
    "corpus = data[\"event_result\"].to_list()"
   ]
  },
  {
   "cell_type": "code",
   "execution_count": 4,
   "metadata": {},
   "outputs": [
    {
     "data": {
      "text/plain": [
       "<6175x21696 sparse matrix of type '<class 'numpy.int64'>'\n",
       "\twith 130532 stored elements in Compressed Sparse Row format>"
      ]
     },
     "execution_count": 4,
     "metadata": {},
     "output_type": "execute_result"
    }
   ],
   "source": [
    "vectorizer = CountVectorizer(ngram_range=(1,2),tokenizer = WordPunctTokenizer().tokenize)\n",
    "vectorizer.fit_transform(corpus)"
   ]
  },
  {
   "cell_type": "code",
   "execution_count": 8,
   "metadata": {},
   "outputs": [
    {
     "name": "stdout",
     "output_type": "stream",
     "text": [
      "Fold Complete\n",
      "              precision    recall  f1-score   support\n",
      "\n",
      "           0       0.68      0.73      0.70       121\n",
      "           1       0.79      0.75      0.77       244\n",
      "           2       0.61      0.52      0.56       117\n",
      "           3       0.70      0.65      0.68        75\n",
      "           4       0.44      0.53      0.48        32\n",
      "           5       0.00      0.00      0.00         0\n",
      "           6       0.42      0.61      0.50        28\n",
      "           7       0.36      0.48      0.41        21\n",
      "\n",
      "    accuracy                           0.67       638\n",
      "   macro avg       0.50      0.53      0.51       638\n",
      "weighted avg       0.68      0.67      0.67       638\n",
      "\n",
      "Accuracy 0.6661442006269592\n",
      "Kappa 0.5688163343010804\n"
     ]
    },
    {
     "name": "stderr",
     "output_type": "stream",
     "text": [
      "C:\\Users\\alaister\\anaconda3\\lib\\site-packages\\sklearn\\metrics\\_classification.py:1221: UndefinedMetricWarning: Recall and F-score are ill-defined and being set to 0.0 in labels with no true samples. Use `zero_division` parameter to control this behavior.\n",
      "  _warn_prf(average, modifier, msg_start, len(result))\n"
     ]
    }
   ],
   "source": [
    "accuracy = list()\n",
    "kappa = list()\n",
    "\n",
    "for i in range(1):\n",
    "    train = pd.read_csv(f\"train{i}.csv\")\n",
    "    test = pd.read_csv(f\"test{i}.csv\")\n",
    "\n",
    "    X_train = vectorizer.transform(train[\"event_result\"]).toarray()\n",
    "    X_test = vectorizer.transform(test[\"event_result\"]).toarray()\n",
    "\n",
    "    Y_train = train[\"Primary code\"].to_numpy()\n",
    "    Y_test = test[\"Primary code\"].to_numpy()\n",
    "    \n",
    "    clf = LogisticRegression(tol=1e-5,C=1,max_iter=150)\n",
    "    clf.fit(X_train, Y_train)\n",
    "    \n",
    "    accuracy.append(clf.score(X_test,Y_test))\n",
    "    kappa.append(cohen_kappa_score(clf.predict(X_test),Y_test))\n",
    "    print(\"Fold Complete\")\n",
    "    print(classification_report(clf.predict(X_test),Y_test))\n",
    "print(f\"Accuracy {sum(accuracy)/len(accuracy)}\")\n",
    "print(f\"Kappa {sum(kappa)/len(kappa)}\")"
   ]
  },
  {
   "cell_type": "code",
   "execution_count": null,
   "metadata": {},
   "outputs": [],
   "source": []
  },
  {
   "cell_type": "code",
   "execution_count": null,
   "metadata": {},
   "outputs": [],
   "source": []
  },
  {
   "cell_type": "code",
   "execution_count": null,
   "metadata": {},
   "outputs": [],
   "source": []
  },
  {
   "cell_type": "code",
   "execution_count": null,
   "metadata": {},
   "outputs": [],
   "source": []
  }
 ],
 "metadata": {
  "kernelspec": {
   "display_name": "Python 3",
   "language": "python",
   "name": "python3"
  },
  "language_info": {
   "codemirror_mode": {
    "name": "ipython",
    "version": 3
   },
   "file_extension": ".py",
   "mimetype": "text/x-python",
   "name": "python",
   "nbconvert_exporter": "python",
   "pygments_lexer": "ipython3",
   "version": "3.8.5"
  }
 },
 "nbformat": 4,
 "nbformat_minor": 4
}
