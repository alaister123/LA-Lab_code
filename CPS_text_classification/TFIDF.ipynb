{
 "cells": [
  {
   "cell_type": "code",
   "execution_count": 1,
   "metadata": {},
   "outputs": [],
   "source": [
    "import pandas as pd\n",
    "import numpy as np\n",
    "from nltk.corpus import stopwords\n",
    "from sklearn.feature_extraction.text import TfidfVectorizer\n",
    "from sklearn.model_selection import train_test_split\n",
    "from sklearn.metrics import cohen_kappa_score"
   ]
  },
  {
   "cell_type": "code",
   "execution_count": 2,
   "metadata": {},
   "outputs": [],
   "source": [
    "data = pd.read_csv(\"cooked_all_sep.csv\")"
   ]
  },
  {
   "cell_type": "code",
   "execution_count": 3,
   "metadata": {},
   "outputs": [
    {
     "data": {
      "text/html": [
       "<div>\n",
       "<style scoped>\n",
       "    .dataframe tbody tr th:only-of-type {\n",
       "        vertical-align: middle;\n",
       "    }\n",
       "\n",
       "    .dataframe tbody tr th {\n",
       "        vertical-align: top;\n",
       "    }\n",
       "\n",
       "    .dataframe thead th {\n",
       "        text-align: right;\n",
       "    }\n",
       "</style>\n",
       "<table border=\"1\" class=\"dataframe\">\n",
       "  <thead>\n",
       "    <tr style=\"text-align: right;\">\n",
       "      <th></th>\n",
       "      <th>Unnamed: 0</th>\n",
       "      <th>task</th>\n",
       "      <th>team_id</th>\n",
       "      <th>Person-ID (mellon-ID)</th>\n",
       "      <th>event_result</th>\n",
       "      <th>Primary code</th>\n",
       "    </tr>\n",
       "  </thead>\n",
       "  <tbody>\n",
       "    <tr>\n",
       "      <th>0</th>\n",
       "      <td>0</td>\n",
       "      <td>apartment</td>\n",
       "      <td>179706_162850_162936_182908</td>\n",
       "      <td>162850</td>\n",
       "      <td>Hi</td>\n",
       "      <td>0</td>\n",
       "    </tr>\n",
       "    <tr>\n",
       "      <th>1</th>\n",
       "      <td>1</td>\n",
       "      <td>apartment</td>\n",
       "      <td>179706_162850_162936_182908</td>\n",
       "      <td>182908</td>\n",
       "      <td>hey</td>\n",
       "      <td>0</td>\n",
       "    </tr>\n",
       "    <tr>\n",
       "      <th>2</th>\n",
       "      <td>2</td>\n",
       "      <td>apartment</td>\n",
       "      <td>179706_162850_162936_182908</td>\n",
       "      <td>162936</td>\n",
       "      <td>Hey</td>\n",
       "      <td>0</td>\n",
       "    </tr>\n",
       "    <tr>\n",
       "      <th>3</th>\n",
       "      <td>3</td>\n",
       "      <td>apartment</td>\n",
       "      <td>179706_162850_162936_182908</td>\n",
       "      <td>179706</td>\n",
       "      <td>hola</td>\n",
       "      <td>0</td>\n",
       "    </tr>\n",
       "    <tr>\n",
       "      <th>4</th>\n",
       "      <td>4</td>\n",
       "      <td>apartment</td>\n",
       "      <td>179706_162850_162936_182908</td>\n",
       "      <td>162850</td>\n",
       "      <td>Is everyone here?</td>\n",
       "      <td>7</td>\n",
       "    </tr>\n",
       "    <tr>\n",
       "      <th>...</th>\n",
       "      <td>...</td>\n",
       "      <td>...</td>\n",
       "      <td>...</td>\n",
       "      <td>...</td>\n",
       "      <td>...</td>\n",
       "      <td>...</td>\n",
       "    </tr>\n",
       "    <tr>\n",
       "      <th>6170</th>\n",
       "      <td>6170</td>\n",
       "      <td>Professor</td>\n",
       "      <td>201620_174788_194314_175043</td>\n",
       "      <td>201620</td>\n",
       "      <td>have^</td>\n",
       "      <td>2</td>\n",
       "    </tr>\n",
       "    <tr>\n",
       "      <th>6171</th>\n",
       "      <td>6171</td>\n",
       "      <td>Professor</td>\n",
       "      <td>201620_174788_194314_175043</td>\n",
       "      <td>194314</td>\n",
       "      <td>BCA it is</td>\n",
       "      <td>1</td>\n",
       "    </tr>\n",
       "    <tr>\n",
       "      <th>6172</th>\n",
       "      <td>6172</td>\n",
       "      <td>Professor</td>\n",
       "      <td>201620_174788_194314_175043</td>\n",
       "      <td>174788</td>\n",
       "      <td>the count down just stops at 00:00 : )</td>\n",
       "      <td>1</td>\n",
       "    </tr>\n",
       "    <tr>\n",
       "      <th>6173</th>\n",
       "      <td>6173</td>\n",
       "      <td>Professor</td>\n",
       "      <td>201620_174788_194314_175043</td>\n",
       "      <td>194314</td>\n",
       "      <td>Oh haha</td>\n",
       "      <td>2</td>\n",
       "    </tr>\n",
       "    <tr>\n",
       "      <th>6174</th>\n",
       "      <td>6174</td>\n",
       "      <td>Professor</td>\n",
       "      <td>201620_174788_194314_175043</td>\n",
       "      <td>201620</td>\n",
       "      <td>wow haha</td>\n",
       "      <td>0</td>\n",
       "    </tr>\n",
       "  </tbody>\n",
       "</table>\n",
       "<p>6175 rows × 6 columns</p>\n",
       "</div>"
      ],
      "text/plain": [
       "      Unnamed: 0       task                      team_id  \\\n",
       "0              0  apartment  179706_162850_162936_182908   \n",
       "1              1  apartment  179706_162850_162936_182908   \n",
       "2              2  apartment  179706_162850_162936_182908   \n",
       "3              3  apartment  179706_162850_162936_182908   \n",
       "4              4  apartment  179706_162850_162936_182908   \n",
       "...          ...        ...                          ...   \n",
       "6170        6170  Professor  201620_174788_194314_175043   \n",
       "6171        6171  Professor  201620_174788_194314_175043   \n",
       "6172        6172  Professor  201620_174788_194314_175043   \n",
       "6173        6173  Professor  201620_174788_194314_175043   \n",
       "6174        6174  Professor  201620_174788_194314_175043   \n",
       "\n",
       "     Person-ID (mellon-ID)                            event_result  \\\n",
       "0                   162850                                      Hi   \n",
       "1                   182908                                     hey   \n",
       "2                   162936                                     Hey   \n",
       "3                   179706                                    hola   \n",
       "4                   162850                       Is everyone here?   \n",
       "...                    ...                                     ...   \n",
       "6170                201620                                   have^   \n",
       "6171                194314                               BCA it is   \n",
       "6172                174788  the count down just stops at 00:00 : )   \n",
       "6173                194314                                 Oh haha   \n",
       "6174                201620                                wow haha   \n",
       "\n",
       "      Primary code  \n",
       "0                0  \n",
       "1                0  \n",
       "2                0  \n",
       "3                0  \n",
       "4                7  \n",
       "...            ...  \n",
       "6170             2  \n",
       "6171             1  \n",
       "6172             1  \n",
       "6173             2  \n",
       "6174             0  \n",
       "\n",
       "[6175 rows x 6 columns]"
      ]
     },
     "execution_count": 3,
     "metadata": {},
     "output_type": "execute_result"
    }
   ],
   "source": [
    "data"
   ]
  },
  {
   "cell_type": "code",
   "execution_count": 4,
   "metadata": {},
   "outputs": [],
   "source": [
    "label0 = ' '.join(data[data['Primary code'] == 0]['event_result'])\n",
    "label1 = ' '.join(data[data['Primary code'] == 1]['event_result'])\n",
    "label2 = ' '.join(data[data['Primary code'] == 2]['event_result'])\n",
    "label3 = ' '.join(data[data['Primary code'] == 3]['event_result'])\n",
    "label4 = ' '.join(data[data['Primary code'] == 4]['event_result'])\n",
    "label5 = ' '.join(data[data['Primary code'] == 5]['event_result'])\n",
    "label6 = ' '.join(data[data['Primary code'] == 6]['event_result'])\n",
    "label7 = ' '.join(data[data['Primary code'] == 7]['event_result'])"
   ]
  },
  {
   "cell_type": "code",
   "execution_count": 5,
   "metadata": {},
   "outputs": [],
   "source": [
    "tfidf = TfidfVectorizer(sublinear_tf=True, stop_words='english')"
   ]
  },
  {
   "cell_type": "code",
   "execution_count": 6,
   "metadata": {},
   "outputs": [
    {
     "data": {
      "text/plain": [
       "TfidfVectorizer(stop_words='english', sublinear_tf=True)"
      ]
     },
     "execution_count": 6,
     "metadata": {},
     "output_type": "execute_result"
    }
   ],
   "source": [
    "tfidf.fit([label0,label1,label2,label3,label4,label5,label6,label7])"
   ]
  },
  {
   "cell_type": "code",
   "execution_count": 7,
   "metadata": {},
   "outputs": [],
   "source": [
    "X = data[\"event_result\"]"
   ]
  },
  {
   "cell_type": "code",
   "execution_count": 8,
   "metadata": {},
   "outputs": [
    {
     "data": {
      "text/plain": [
       "0                                           Hi\n",
       "1                                          hey\n",
       "2                                          Hey\n",
       "3                                         hola\n",
       "4                            Is everyone here?\n",
       "                         ...                  \n",
       "6170                                     have^\n",
       "6171                                 BCA it is\n",
       "6172    the count down just stops at 00:00 : )\n",
       "6173                                   Oh haha\n",
       "6174                                  wow haha\n",
       "Name: event_result, Length: 6175, dtype: object"
      ]
     },
     "execution_count": 8,
     "metadata": {},
     "output_type": "execute_result"
    }
   ],
   "source": [
    "X"
   ]
  },
  {
   "cell_type": "code",
   "execution_count": 9,
   "metadata": {},
   "outputs": [],
   "source": [
    "Y = data[\"Primary code\"]"
   ]
  },
  {
   "cell_type": "code",
   "execution_count": 10,
   "metadata": {},
   "outputs": [
    {
     "data": {
      "text/plain": [
       "0       0\n",
       "1       0\n",
       "2       0\n",
       "3       0\n",
       "4       7\n",
       "       ..\n",
       "6170    2\n",
       "6171    1\n",
       "6172    1\n",
       "6173    2\n",
       "6174    0\n",
       "Name: Primary code, Length: 6175, dtype: int64"
      ]
     },
     "execution_count": 10,
     "metadata": {},
     "output_type": "execute_result"
    }
   ],
   "source": [
    "Y"
   ]
  },
  {
   "cell_type": "code",
   "execution_count": 11,
   "metadata": {},
   "outputs": [],
   "source": [
    "X_train, X_test, Y_train, Y_test = train_test_split(X,Y,test_size = 0.2)"
   ]
  },
  {
   "cell_type": "markdown",
   "metadata": {},
   "source": [
    "# NB"
   ]
  },
  {
   "cell_type": "code",
   "execution_count": 12,
   "metadata": {},
   "outputs": [
    {
     "data": {
      "text/plain": [
       "MultinomialNB(alpha=1e-10)"
      ]
     },
     "execution_count": 12,
     "metadata": {},
     "output_type": "execute_result"
    }
   ],
   "source": [
    "from sklearn.naive_bayes import MultinomialNB\n",
    "clf = MultinomialNB(alpha=1e-10)\n",
    "clf.fit(tfidf.transform(X_train).toarray(),Y_train)"
   ]
  },
  {
   "cell_type": "code",
   "execution_count": 13,
   "metadata": {},
   "outputs": [
    {
     "name": "stdout",
     "output_type": "stream",
     "text": [
      "              precision    recall  f1-score   support\n",
      "\n",
      "           0       0.83      0.62      0.71       196\n",
      "           1       0.60      0.72      0.65       478\n",
      "           2       0.50      0.48      0.49       189\n",
      "           3       0.47      0.47      0.47       151\n",
      "           4       0.34      0.29      0.31        91\n",
      "           5       0.00      0.00      0.00         5\n",
      "           6       0.53      0.40      0.46        70\n",
      "           7       0.39      0.31      0.34        55\n",
      "\n",
      "    accuracy                           0.56      1235\n",
      "   macro avg       0.46      0.41      0.43      1235\n",
      "weighted avg       0.57      0.56      0.56      1235\n",
      "\n"
     ]
    }
   ],
   "source": [
    "from sklearn.metrics import classification_report\n",
    "\n",
    "y_pred = clf.predict(tfidf.transform(X_test).toarray())\n",
    "print(classification_report(Y_test, y_pred))"
   ]
  },
  {
   "cell_type": "code",
   "execution_count": 14,
   "metadata": {},
   "outputs": [
    {
     "name": "stdout",
     "output_type": "stream",
     "text": [
      "Fold Complete\n",
      "Fold Complete\n",
      "Fold Complete\n",
      "Fold Complete\n",
      "Fold Complete\n",
      "Fold Complete\n",
      "Fold Complete\n",
      "Fold Complete\n",
      "Fold Complete\n",
      "Fold Complete\n",
      "Accuracy 0.5464099679469728\n",
      "Kappa 0.40695936805350186\n"
     ]
    }
   ],
   "source": [
    "accuracy = list()\n",
    "kappa = list()\n",
    "\n",
    "for i in range(10):\n",
    "    train = pd.read_csv(f\"train{i}.csv\")\n",
    "    test = pd.read_csv(f\"test{i}.csv\")\n",
    "\n",
    "    \n",
    "    \n",
    "    X_train = tfidf.transform(train[\"event_result\"]).toarray()\n",
    "    X_test = tfidf.transform(test[\"event_result\"]).toarray()\n",
    "\n",
    "    Y_train = train[\"Primary code\"].to_numpy()\n",
    "    Y_test = test[\"Primary code\"].to_numpy()\n",
    "    \n",
    "    clf = MultinomialNB(alpha=1e-10)\n",
    "    clf.fit(X_train, Y_train)\n",
    "    \n",
    "    accuracy.append(clf.score(X_test,Y_test))\n",
    "    kappa.append(cohen_kappa_score(clf.predict(X_test),Y_test))\n",
    "    print(\"Fold Complete\")\n",
    "print(f\"Accuracy {sum(accuracy)/len(accuracy)}\")\n",
    "print(f\"Kappa {sum(kappa)/len(kappa)}\")"
   ]
  },
  {
   "cell_type": "markdown",
   "metadata": {},
   "source": [
    "# Random Forest"
   ]
  },
  {
   "cell_type": "code",
   "execution_count": 15,
   "metadata": {},
   "outputs": [],
   "source": [
    "from sklearn.ensemble import RandomForestClassifier"
   ]
  },
  {
   "cell_type": "code",
   "execution_count": 19,
   "metadata": {},
   "outputs": [
    {
     "data": {
      "text/plain": [
       "RandomForestClassifier(max_depth=70, min_samples_split=5)"
      ]
     },
     "execution_count": 19,
     "metadata": {},
     "output_type": "execute_result"
    }
   ],
   "source": [
    "X_train, X_test, Y_train, Y_test = train_test_split(X,Y,test_size = 0.2)\n",
    "clf = RandomForestClassifier(max_depth=70,min_samples_split=5)\n",
    "clf.fit(tfidf.transform(X_train).toarray(),Y_train)"
   ]
  },
  {
   "cell_type": "code",
   "execution_count": 20,
   "metadata": {},
   "outputs": [
    {
     "name": "stdout",
     "output_type": "stream",
     "text": [
      "              precision    recall  f1-score   support\n",
      "\n",
      "           0       0.90      0.44      0.59       194\n",
      "           1       0.48      0.96      0.64       452\n",
      "           2       0.79      0.32      0.45       197\n",
      "           3       0.72      0.54      0.62       145\n",
      "           4       0.50      0.01      0.02       103\n",
      "           5       0.00      0.00      0.00         6\n",
      "           6       0.77      0.38      0.50        72\n",
      "           7       0.90      0.14      0.24        66\n",
      "\n",
      "    accuracy                           0.57      1235\n",
      "   macro avg       0.63      0.35      0.38      1235\n",
      "weighted avg       0.66      0.57      0.52      1235\n",
      "\n"
     ]
    }
   ],
   "source": [
    "y_pred = clf.predict(tfidf.transform(X_test).toarray())\n",
    "print(classification_report(Y_test, y_pred))"
   ]
  },
  {
   "cell_type": "code",
   "execution_count": 21,
   "metadata": {},
   "outputs": [
    {
     "name": "stdout",
     "output_type": "stream",
     "text": [
      "Fold Complete\n",
      "Fold Complete\n",
      "Fold Complete\n",
      "Fold Complete\n",
      "Fold Complete\n",
      "Fold Complete\n",
      "Fold Complete\n",
      "Fold Complete\n",
      "Fold Complete\n",
      "Fold Complete\n",
      "Accuracy 0.5541905919460661\n",
      "Kappa 0.3593890026633581\n"
     ]
    }
   ],
   "source": [
    "accuracy = list()\n",
    "kappa = list()\n",
    "\n",
    "for i in range(10):\n",
    "    train = pd.read_csv(f\"train{i}.csv\")\n",
    "    test = pd.read_csv(f\"test{i}.csv\")\n",
    "\n",
    "    X_train = tfidf.transform(train[\"event_result\"]).toarray()\n",
    "    X_test = tfidf.transform(test[\"event_result\"]).toarray()\n",
    "\n",
    "    Y_train = train[\"Primary code\"].to_numpy()\n",
    "    Y_test = test[\"Primary code\"].to_numpy()\n",
    "    \n",
    "    clf = RandomForestClassifier(max_depth=70,min_samples_split=5)\n",
    "    clf.fit(X_train, Y_train)\n",
    "    \n",
    "    accuracy.append(clf.score(X_test,Y_test))\n",
    "    kappa.append(cohen_kappa_score(clf.predict(X_test),Y_test))\n",
    "    print(\"Fold Complete\")\n",
    "print(f\"Accuracy {sum(accuracy)/len(accuracy)}\")\n",
    "print(f\"Kappa {sum(kappa)/len(kappa)}\")"
   ]
  },
  {
   "cell_type": "markdown",
   "metadata": {},
   "source": [
    "# Decision Tree"
   ]
  },
  {
   "cell_type": "code",
   "execution_count": 22,
   "metadata": {},
   "outputs": [],
   "source": [
    "from sklearn.tree import DecisionTreeClassifier"
   ]
  },
  {
   "cell_type": "code",
   "execution_count": 23,
   "metadata": {},
   "outputs": [
    {
     "name": "stdout",
     "output_type": "stream",
     "text": [
      "              precision    recall  f1-score   support\n",
      "\n",
      "           0       0.65      0.54      0.59       176\n",
      "           1       0.67      0.68      0.67       499\n",
      "           2       0.54      0.38      0.45       197\n",
      "           3       0.31      0.65      0.42       140\n",
      "           4       0.28      0.24      0.26        88\n",
      "           5       0.00      0.00      0.00         4\n",
      "           6       0.65      0.49      0.56        72\n",
      "           7       0.47      0.12      0.19        59\n",
      "\n",
      "    accuracy                           0.54      1235\n",
      "   macro avg       0.45      0.39      0.39      1235\n",
      "weighted avg       0.56      0.54      0.53      1235\n",
      "\n"
     ]
    }
   ],
   "source": [
    "X_train, X_test, Y_train, Y_test = train_test_split(X,Y,test_size = 0.2)\n",
    "clf = DecisionTreeClassifier(min_samples_split=10)\n",
    "clf.fit(tfidf.transform(X_train).toarray(),Y_train)\n",
    "y_pred = clf.predict(tfidf.transform(X_test).toarray())\n",
    "print(classification_report(Y_test, y_pred))"
   ]
  },
  {
   "cell_type": "code",
   "execution_count": 24,
   "metadata": {},
   "outputs": [
    {
     "name": "stdout",
     "output_type": "stream",
     "text": [
      "Fold Complete\n",
      "Fold Complete\n",
      "Fold Complete\n",
      "Fold Complete\n",
      "Fold Complete\n",
      "Fold Complete\n",
      "Fold Complete\n",
      "Fold Complete\n",
      "Fold Complete\n",
      "Fold Complete\n",
      "Accuracy 0.5328525262790527\n",
      "Kappa 0.40123578631138407\n"
     ]
    }
   ],
   "source": [
    "accuracy = list()\n",
    "kappa = list()\n",
    "\n",
    "for i in range(10):\n",
    "    train = pd.read_csv(f\"train{i}.csv\")\n",
    "    test = pd.read_csv(f\"test{i}.csv\")\n",
    "\n",
    "    X_train = tfidf.transform(train[\"event_result\"]).toarray()\n",
    "    X_test = tfidf.transform(test[\"event_result\"]).toarray()\n",
    "\n",
    "    Y_train = train[\"Primary code\"].to_numpy()\n",
    "    Y_test = test[\"Primary code\"].to_numpy()\n",
    "    \n",
    "    clf = DecisionTreeClassifier(min_samples_split=10)\n",
    "    clf.fit(X_train, Y_train)\n",
    "    \n",
    "    accuracy.append(clf.score(X_test,Y_test))\n",
    "    kappa.append(cohen_kappa_score(clf.predict(X_test),Y_test))\n",
    "    print(\"Fold Complete\")\n",
    "print(f\"Accuracy {sum(accuracy)/len(accuracy)}\")\n",
    "print(f\"Kappa {sum(kappa)/len(kappa)}\")"
   ]
  },
  {
   "cell_type": "markdown",
   "metadata": {},
   "source": [
    "# LR"
   ]
  },
  {
   "cell_type": "code",
   "execution_count": 25,
   "metadata": {},
   "outputs": [],
   "source": [
    "from sklearn.linear_model import LogisticRegression"
   ]
  },
  {
   "cell_type": "code",
   "execution_count": 26,
   "metadata": {},
   "outputs": [
    {
     "name": "stdout",
     "output_type": "stream",
     "text": [
      "              precision    recall  f1-score   support\n",
      "\n",
      "           0       0.82      0.59      0.69       191\n",
      "           1       0.53      0.90      0.66       462\n",
      "           2       0.55      0.37      0.44       209\n",
      "           3       0.69      0.48      0.56       143\n",
      "           4       0.53      0.09      0.15       104\n",
      "           5       0.00      0.00      0.00         2\n",
      "           6       0.62      0.37      0.46        68\n",
      "           7       0.65      0.20      0.30        56\n",
      "\n",
      "    accuracy                           0.58      1235\n",
      "   macro avg       0.55      0.37      0.41      1235\n",
      "weighted avg       0.61      0.58      0.55      1235\n",
      "\n"
     ]
    },
    {
     "name": "stderr",
     "output_type": "stream",
     "text": [
      "C:\\Users\\alaister\\anaconda3\\lib\\site-packages\\sklearn\\metrics\\_classification.py:1221: UndefinedMetricWarning: Precision and F-score are ill-defined and being set to 0.0 in labels with no predicted samples. Use `zero_division` parameter to control this behavior.\n",
      "  _warn_prf(average, modifier, msg_start, len(result))\n"
     ]
    }
   ],
   "source": [
    "X_train, X_test, Y_train, Y_test = train_test_split(X,Y,test_size = 0.2)\n",
    "clf = LogisticRegression(tol=1e-5,C=1,max_iter=150)\n",
    "clf.fit(tfidf.transform(X_train).toarray(),Y_train)\n",
    "y_pred = clf.predict(tfidf.transform(X_test).toarray())\n",
    "print(classification_report(Y_test, y_pred))"
   ]
  },
  {
   "cell_type": "code",
   "execution_count": 27,
   "metadata": {},
   "outputs": [
    {
     "name": "stdout",
     "output_type": "stream",
     "text": [
      "Fold Complete\n",
      "Fold Complete\n",
      "Fold Complete\n",
      "Fold Complete\n",
      "Fold Complete\n",
      "Fold Complete\n",
      "Fold Complete\n",
      "Fold Complete\n",
      "Fold Complete\n",
      "Fold Complete\n",
      "Accuracy 0.5889028728773134\n",
      "Kappa 0.4278328670347773\n"
     ]
    }
   ],
   "source": [
    "accuracy = list()\n",
    "kappa = list()\n",
    "\n",
    "for i in range(10):\n",
    "    train = pd.read_csv(f\"train{i}.csv\")\n",
    "    test = pd.read_csv(f\"test{i}.csv\")\n",
    "\n",
    "    X_train = tfidf.transform(train[\"event_result\"]).toarray()\n",
    "    X_test = tfidf.transform(test[\"event_result\"]).toarray()\n",
    "\n",
    "    Y_train = train[\"Primary code\"].to_numpy()\n",
    "    Y_test = test[\"Primary code\"].to_numpy()\n",
    "    \n",
    "    clf = LogisticRegression(tol=1e-5,C=1,max_iter=150)\n",
    "    clf.fit(X_train, Y_train)\n",
    "    \n",
    "    accuracy.append(clf.score(X_test,Y_test))\n",
    "    kappa.append(cohen_kappa_score(clf.predict(X_test),Y_test))\n",
    "    print(\"Fold Complete\")\n",
    "print(f\"Accuracy {sum(accuracy)/len(accuracy)}\")\n",
    "print(f\"Kappa {sum(kappa)/len(kappa)}\")"
   ]
  },
  {
   "cell_type": "markdown",
   "metadata": {},
   "source": [
    "# SVM"
   ]
  },
  {
   "cell_type": "code",
   "execution_count": 28,
   "metadata": {},
   "outputs": [],
   "source": [
    "from sklearn.svm import LinearSVC"
   ]
  },
  {
   "cell_type": "code",
   "execution_count": 29,
   "metadata": {},
   "outputs": [
    {
     "name": "stdout",
     "output_type": "stream",
     "text": [
      "              precision    recall  f1-score   support\n",
      "\n",
      "           0       0.81      0.64      0.72       190\n",
      "           1       0.55      0.92      0.69       458\n",
      "           2       0.63      0.45      0.52       211\n",
      "           3       0.67      0.56      0.61       139\n",
      "           4       0.60      0.03      0.06        98\n",
      "           5       0.00      0.00      0.00         3\n",
      "           6       0.63      0.35      0.45        69\n",
      "           7       0.29      0.03      0.05        67\n",
      "\n",
      "    accuracy                           0.60      1235\n",
      "   macro avg       0.52      0.37      0.39      1235\n",
      "weighted avg       0.61      0.60      0.56      1235\n",
      "\n"
     ]
    },
    {
     "name": "stderr",
     "output_type": "stream",
     "text": [
      "C:\\Users\\alaister\\anaconda3\\lib\\site-packages\\sklearn\\metrics\\_classification.py:1221: UndefinedMetricWarning: Precision and F-score are ill-defined and being set to 0.0 in labels with no predicted samples. Use `zero_division` parameter to control this behavior.\n",
      "  _warn_prf(average, modifier, msg_start, len(result))\n"
     ]
    }
   ],
   "source": [
    "X_train, X_test, Y_train, Y_test = train_test_split(X,Y,test_size = 0.2)\n",
    "clf = LinearSVC(tol=1e-5,C=0.1,max_iter=2000)\n",
    "clf.fit(tfidf.transform(X_train).toarray(),Y_train)\n",
    "y_pred = clf.predict(tfidf.transform(X_test).toarray())\n",
    "print(classification_report(Y_test, y_pred))"
   ]
  },
  {
   "cell_type": "code",
   "execution_count": 30,
   "metadata": {},
   "outputs": [
    {
     "name": "stdout",
     "output_type": "stream",
     "text": [
      "Fold Complete\n",
      "Fold Complete\n",
      "Fold Complete\n",
      "Fold Complete\n",
      "Fold Complete\n",
      "Fold Complete\n",
      "Fold Complete\n",
      "Fold Complete\n",
      "Fold Complete\n",
      "Fold Complete\n",
      "Accuracy 0.589376928833882\n",
      "Kappa 0.42837814826881554\n"
     ]
    }
   ],
   "source": [
    "accuracy = list()\n",
    "kappa = list()\n",
    "\n",
    "for i in range(10):\n",
    "    train = pd.read_csv(f\"train{i}.csv\")\n",
    "    test = pd.read_csv(f\"test{i}.csv\")\n",
    "\n",
    "    X_train = tfidf.transform(train[\"event_result\"]).toarray()\n",
    "    X_test = tfidf.transform(test[\"event_result\"]).toarray()\n",
    "\n",
    "    Y_train = train[\"Primary code\"].to_numpy()\n",
    "    Y_test = test[\"Primary code\"].to_numpy()\n",
    "    \n",
    "    clf = LinearSVC(tol=1e-5,C=0.1,max_iter=2000)\n",
    "    clf.fit(X_train, Y_train)\n",
    "    \n",
    "    accuracy.append(clf.score(X_test,Y_test))\n",
    "    kappa.append(cohen_kappa_score(clf.predict(X_test),Y_test))\n",
    "    print(\"Fold Complete\")\n",
    "print(f\"Accuracy {sum(accuracy)/len(accuracy)}\")\n",
    "print(f\"Kappa {sum(kappa)/len(kappa)}\")"
   ]
  },
  {
   "cell_type": "markdown",
   "metadata": {},
   "source": [
    "# Passive Agressive Classifier"
   ]
  },
  {
   "cell_type": "code",
   "execution_count": 31,
   "metadata": {},
   "outputs": [],
   "source": [
    "from sklearn.linear_model import PassiveAggressiveClassifier"
   ]
  },
  {
   "cell_type": "code",
   "execution_count": 32,
   "metadata": {},
   "outputs": [
    {
     "name": "stdout",
     "output_type": "stream",
     "text": [
      "              precision    recall  f1-score   support\n",
      "\n",
      "           0       0.80      0.62      0.70       184\n",
      "           1       0.54      0.70      0.61       478\n",
      "           2       0.56      0.36      0.44       192\n",
      "           3       0.73      0.45      0.56       150\n",
      "           4       0.27      0.21      0.24       109\n",
      "           5       0.00      0.00      0.00         6\n",
      "           6       0.60      0.43      0.50        68\n",
      "           7       0.18      0.42      0.25        48\n",
      "\n",
      "    accuracy                           0.53      1235\n",
      "   macro avg       0.46      0.40      0.41      1235\n",
      "weighted avg       0.57      0.53      0.53      1235\n",
      "\n"
     ]
    }
   ],
   "source": [
    "X_train, X_test, Y_train, Y_test = train_test_split(X,Y,test_size = 0.2)\n",
    "clf = PassiveAggressiveClassifier()\n",
    "clf.fit(tfidf.transform(X_train).toarray(),Y_train)\n",
    "y_pred = clf.predict(tfidf.transform(X_test).toarray())\n",
    "print(classification_report(Y_test, y_pred))"
   ]
  },
  {
   "cell_type": "code",
   "execution_count": 33,
   "metadata": {},
   "outputs": [
    {
     "name": "stdout",
     "output_type": "stream",
     "text": [
      "Fold Complete\n",
      "Fold Complete\n",
      "Fold Complete\n",
      "Fold Complete\n",
      "Fold Complete\n",
      "Fold Complete\n",
      "Fold Complete\n",
      "Fold Complete\n",
      "Fold Complete\n",
      "Fold Complete\n",
      "Accuracy 0.5438781984727215\n",
      "Kappa 0.40886635429413926\n"
     ]
    }
   ],
   "source": [
    "accuracy = list()\n",
    "kappa = list()\n",
    "\n",
    "for i in range(10):\n",
    "    train = pd.read_csv(f\"train{i}.csv\")\n",
    "    test = pd.read_csv(f\"test{i}.csv\")\n",
    "\n",
    "    X_train = tfidf.transform(train[\"event_result\"]).toarray()\n",
    "    X_test = tfidf.transform(test[\"event_result\"]).toarray()\n",
    "\n",
    "    Y_train = train[\"Primary code\"].to_numpy()\n",
    "    Y_test = test[\"Primary code\"].to_numpy()\n",
    "    \n",
    "    clf = PassiveAggressiveClassifier()\n",
    "    clf.fit(X_train, Y_train)\n",
    "    \n",
    "    accuracy.append(clf.score(X_test,Y_test))\n",
    "    kappa.append(cohen_kappa_score(clf.predict(X_test),Y_test))\n",
    "    print(\"Fold Complete\")\n",
    "print(f\"Accuracy {sum(accuracy)/len(accuracy)}\")\n",
    "print(f\"Kappa {sum(kappa)/len(kappa)}\")"
   ]
  },
  {
   "cell_type": "code",
   "execution_count": null,
   "metadata": {},
   "outputs": [],
   "source": []
  }
 ],
 "metadata": {
  "kernelspec": {
   "display_name": "Python 3",
   "language": "python",
   "name": "python3"
  },
  "language_info": {
   "codemirror_mode": {
    "name": "ipython",
    "version": 3
   },
   "file_extension": ".py",
   "mimetype": "text/x-python",
   "name": "python",
   "nbconvert_exporter": "python",
   "pygments_lexer": "ipython3",
   "version": "3.8.5"
  }
 },
 "nbformat": 4,
 "nbformat_minor": 4
}
